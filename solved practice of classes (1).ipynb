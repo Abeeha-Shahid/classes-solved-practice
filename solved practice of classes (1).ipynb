{
 "cells": [
  {
   "cell_type": "code",
   "execution_count": 16,
   "id": "1713f1f6",
   "metadata": {},
   "outputs": [
    {
     "name": "stdout",
     "output_type": "stream",
     "text": [
      "abeeha 19 Lahore\n"
     ]
    }
   ],
   "source": [
    "#FA24-BBD-005\n",
    "#QUESTION NO 1 \n",
    "class Person:\n",
    "    def __init__(self,name,age,city):\n",
    "        self.name = name\n",
    "        self.age = age\n",
    "        self.city = city\n",
    "        \n",
    "#crearting an example \n",
    "person = Person(\"abeeha\", 19, \"Lahore\")\n",
    "print(person.name, person.age , person.city)\n"
   ]
  },
  {
   "cell_type": "code",
   "execution_count": 21,
   "id": "74825915",
   "metadata": {},
   "outputs": [
    {
     "name": "stdout",
     "output_type": "stream",
     "text": [
      "Toyota Corolla 2020\n"
     ]
    }
   ],
   "source": [
    "#question no 2\n",
    "class Car:\n",
    "    def __init__(self, make, model, year):\n",
    "        self.make = make\n",
    "        self.model = model\n",
    "        self.year = year\n",
    "\n",
    "# Example usage\n",
    "car_info = Car(\"Toyota\", \"Corolla\", 2020)\n",
    "print(car_info.make, car_info.model ,car_info.year)\n"
   ]
  },
  {
   "cell_type": "code",
   "execution_count": 27,
   "id": "a2d8eca5",
   "metadata": {},
   "outputs": [
    {
     "name": "stdout",
     "output_type": "stream",
     "text": [
      "Area: 78.53981633974483\n",
      "Circumference: 31.41592653589793\n"
     ]
    }
   ],
   "source": [
    "#question no 3\n",
    "class Circle:\n",
    "    def __init__(self, radius):\n",
    "        self.radius = radius\n",
    "\n",
    "    def area(self):\n",
    "        return math.pi * (self.radius ** 2)\n",
    "\n",
    "    def circumference(self):\n",
    "        return 2 * math.pi * self.radius\n",
    "\n",
    "# Example \n",
    "circle = Circle(5)  # Create a circle with radius 5\n",
    "print(\"Area:\", circle.area())  # Calculate and print area\n",
    "print(\"Circumference:\", circle.circumference())  # Calculate and print circumference\n"
   ]
  },
  {
   "cell_type": "code",
   "execution_count": 28,
   "id": "e449d025",
   "metadata": {},
   "outputs": [
    {
     "name": "stdout",
     "output_type": "stream",
     "text": [
      "Area: 15\n",
      "Perimeter: 16\n"
     ]
    }
   ],
   "source": [
    "#question no 4\n",
    "class Rectangle:\n",
    "    def __init__(self, length, width):\n",
    "        self.length = length\n",
    "        self.width = width\n",
    "\n",
    "    def area(self):\n",
    "        return self.length * self.width\n",
    "\n",
    "    def perimeter(self):\n",
    "        return 2 * (self.length + self.width)\n",
    "\n",
    "# Example \n",
    "rectangle = Rectangle(5, 3)  # Create a rectangle with length 5 and width 3\n",
    "print(\"Area:\", rectangle.area())  # Calculate and print area\n",
    "print(\"Perimeter:\", rectangle.perimeter())  # Calculate and print perimeter\n"
   ]
  },
  {
   "cell_type": "code",
   "execution_count": 31,
   "id": "0ad2ab6b",
   "metadata": {},
   "outputs": [
    {
     "name": "stdout",
     "output_type": "stream",
     "text": [
      "Average Marks: 81.25\n"
     ]
    }
   ],
   "source": [
    "#question no 5\n",
    "class Student:\n",
    "    def __init__(self, name, roll_number, marks):\n",
    "        self.name = name\n",
    "        self.roll_number = roll_number\n",
    "        self.marks = marks  # marks should be a list of numbers (e.g., [80, 90, 70])\n",
    "\n",
    "    def average_marks(self):\n",
    "        return sum(self.marks) / len(self.marks) if self.marks else 0\n",
    "\n",
    "# Example \n",
    "student = Student(\"abeeha\", 5, [80, 90, 70, 85])  # Create a student with marks\n",
    "print(\"Average Marks:\", student.average_marks())  # Calculate and print average marks\n"
   ]
  },
  {
   "cell_type": "code",
   "execution_count": 35,
   "id": "4bf788e3",
   "metadata": {},
   "outputs": [
    {
     "name": "stdout",
     "output_type": "stream",
     "text": [
      "Title: Thousand splendid suns\n",
      "Author: Khaled hosseini\n",
      "Publication Year: 1990\n"
     ]
    }
   ],
   "source": [
    "#question no 6\n",
    "class Book:\n",
    "    def __init__(self, title, author, publication_year):\n",
    "        self.title = title\n",
    "        self.author = author\n",
    "        self.publication_year = publication_year\n",
    "\n",
    "    def display_info(self):\n",
    "        print(f\"Title: {self.title}\")\n",
    "        print(f\"Author: {self.author}\")\n",
    "        print(f\"Publication Year: {self.publication_year}\")\n",
    "\n",
    "# Example \n",
    "book = Book(\"Thousand splendid suns\", \"Khaled hosseini\", 1990)\n",
    "book.display_info()  # Display book information\n"
   ]
  },
  {
   "cell_type": "code",
   "execution_count": 33,
   "id": "de664eea",
   "metadata": {},
   "outputs": [
    {
     "name": "stdout",
     "output_type": "stream",
     "text": [
      "Name: Abeeha\n",
      "Salary: 500000\n",
      "Designation: Business data analyst\n"
     ]
    }
   ],
   "source": [
    "#question no 7 \n",
    "class Employee:\n",
    "    def __init__(self, name, salary, designation):\n",
    "        self.name = name\n",
    "        self.salary = salary\n",
    "        self.designation = designation\n",
    "\n",
    "    def display_info(self):\n",
    "        print(f\"Name: {self.name}\")\n",
    "        print(f\"Salary: {self.salary}\")\n",
    "        print(f\"Designation: {self.designation}\")\n",
    "\n",
    "# Example \n",
    "employee = Employee(\"Abeeha\", 500000, \"Business data analyst\")\n",
    "employee.display_info()  # Display employee information\n"
   ]
  },
  {
   "cell_type": "code",
   "execution_count": 36,
   "id": "3709434c",
   "metadata": {},
   "outputs": [
    {
     "name": "stdout",
     "output_type": "stream",
     "text": [
      "Deposited: ₨500. New balance: ₨1500\n",
      "Withdrew: ₨200. New balance: ₨1300\n",
      "Insufficient funds.\n"
     ]
    }
   ],
   "source": [
    "#question 8\n",
    "class Bank:\n",
    "    def __init__(self, name, account_number, balance=0):\n",
    "        self.name = name\n",
    "        self.account_number = account_number\n",
    "        self.balance = balance\n",
    "\n",
    "    def deposit(self, amount):\n",
    "        self.balance += amount\n",
    "        print(f\"Deposited: ₨{amount}. New balance: ₨{self.balance}\")\n",
    "\n",
    "    def withdraw(self, amount):\n",
    "        if amount <= self.balance:\n",
    "            self.balance -= amount\n",
    "            print(f\"Withdrew: ₨{amount}. New balance: ₨{self.balance}\")\n",
    "        else:\n",
    "            print(\"Insufficient funds.\")\n",
    "\n",
    "# Example usage\n",
    "account = Bank(\"Abeeha\", 123456, 1000)  # Starting balance ₨1000\n",
    "account.deposit(500)  # Deposit ₨500\n",
    "account.withdraw(200)  # Withdraw ₨200\n",
    "account.withdraw(1500)  # Try to withdraw more than available\n"
   ]
  },
  {
   "cell_type": "code",
   "execution_count": null,
   "id": "85806fd2",
   "metadata": {},
   "outputs": [],
   "source": []
  }
 ],
 "metadata": {
  "kernelspec": {
   "display_name": "Python 3 (ipykernel)",
   "language": "python",
   "name": "python3"
  },
  "language_info": {
   "codemirror_mode": {
    "name": "ipython",
    "version": 3
   },
   "file_extension": ".py",
   "mimetype": "text/x-python",
   "name": "python",
   "nbconvert_exporter": "python",
   "pygments_lexer": "ipython3",
   "version": "3.11.5"
  }
 },
 "nbformat": 4,
 "nbformat_minor": 5
}
